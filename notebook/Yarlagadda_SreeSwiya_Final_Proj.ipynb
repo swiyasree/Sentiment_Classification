{
 "cells": [
  {
   "cell_type": "markdown",
   "id": "ea38f74e-01ba-41af-832a-1eeda0c59403",
   "metadata": {},
   "source": [
    "Name: Sree Swiya Yarlagadda\n",
    "\n",
    "Github Username: https://github.com/swiyasree\n",
    "\n",
    "USC ID: 4295-5564-10"
   ]
  },
  {
   "cell_type": "code",
   "execution_count": 56,
   "id": "7ec0ab3c-e8b1-4eb1-80f8-2e9c9ec8c8c5",
   "metadata": {
    "tags": []
   },
   "outputs": [],
   "source": [
    "import os\n",
    "import re\n",
    "import numpy as np\n",
    "import matplotlib.pyplot as plt\n",
    "from tensorflow.keras.preprocessing.text import Tokenizer\n",
    "from tensorflow.keras.preprocessing.sequence import pad_sequences\n",
    "from tensorflow.keras.models import Sequential\n",
    "from tensorflow.keras.layers import Embedding, Flatten\n",
    "from tensorflow.keras.layers import Dense, Dropout, BatchNormalization\n",
    "from tensorflow.keras.optimizers import Adam\n",
    "from tensorflow.keras.callbacks import EarlyStopping, ReduceLROnPlateau\n",
    "from tensorflow.keras.losses import BinaryCrossentropy\n",
    "from tensorflow.keras import regularizers\n",
    "from tensorflow.keras.layers import Conv1D, MaxPooling1D\n",
    "from tensorflow.keras.layers import LSTM"
   ]
  },
  {
   "cell_type": "markdown",
   "id": "5e2f245c-a621-4eda-9518-6f63d297a004",
   "metadata": {},
   "source": [
    "(a) In this problem, we are trying to build a classifier to analyze the sentiment of reviews. You are provided with text data in two folders: one folder involves positive reviews, and one folder involves negative reviews."
   ]
  },
  {
   "cell_type": "code",
   "execution_count": 57,
   "id": "f23b5d18-b25e-4fb9-9403-d060f5978d94",
   "metadata": {
    "tags": []
   },
   "outputs": [],
   "source": [
    "positive_folder = \"../Data/pos\"\n",
    "negative_folder = \"../Data/neg\""
   ]
  },
  {
   "cell_type": "markdown",
   "id": "335572c7-348d-48c7-a823-43aa1a6fa7af",
   "metadata": {},
   "source": [
    "(b) ii. The data are pretty clean. Remove the punctuation and numbers from the data."
   ]
  },
  {
   "cell_type": "code",
   "execution_count": 58,
   "id": "0b2cb0e2-12b5-4c2a-af8f-78f10902430d",
   "metadata": {
    "tags": []
   },
   "outputs": [],
   "source": [
    "def clean_text(text):\n",
    "    cleaned_text = re.sub(r'[^\\w\\s]', '', text)  # Remove punctuation\n",
    "    cleaned_text = re.sub(r'\\d+', '', cleaned_text)  # Remove numbers\n",
    "    cleaned_text = cleaned_text.replace('\\n','')\n",
    "    return cleaned_text.lower()  # Convert text to lowercase\n",
    "\n",
    "def load_data_from_folder(folder_path, start_index, end_index):\n",
    "    data = []\n",
    "    files = os.listdir(folder_path)\n",
    "    files.sort()\n",
    "    for file in files[start_index: end_index + 1]:\n",
    "        with open(os.path.join(folder_path, file), 'r', encoding='utf-8') as f:\n",
    "            text = f.read()\n",
    "            text = clean_text(text)\n",
    "            data.append(text)\n",
    "    return data"
   ]
  },
  {
   "cell_type": "markdown",
   "id": "e83db0db-0aad-41e8-892f-8953ae0bfaed",
   "metadata": {},
   "source": [
    "(b) iii. The name of each text file starts with cv number. Use text files 0-699 in each class for training and 700-999 for testing."
   ]
  },
  {
   "cell_type": "code",
   "execution_count": 59,
   "id": "0a82fc2a-c6b2-463b-8c38-438f06faa278",
   "metadata": {
    "tags": []
   },
   "outputs": [],
   "source": [
    "train_positive = load_data_from_folder(positive_folder, 0, 699)\n",
    "train_negative = load_data_from_folder(negative_folder, 0, 699)\n",
    "test_positive = load_data_from_folder(positive_folder, 700, 999)\n",
    "test_negative = load_data_from_folder(negative_folder, 700, 999)"
   ]
  },
  {
   "cell_type": "code",
   "execution_count": 60,
   "id": "0bf3c304-7878-438a-8f94-3e6756eb76cf",
   "metadata": {
    "tags": []
   },
   "outputs": [
    {
     "name": "stdout",
     "output_type": "stream",
     "text": [
      "Size of training data: 1400\n",
      "Size of testing data: 600\n"
     ]
    }
   ],
   "source": [
    "# Combine positive and negative data\n",
    "train_data = train_positive + train_negative\n",
    "test_data = test_positive + test_negative\n",
    "\n",
    "# Combine train and test data\n",
    "all_data = train_data + test_data\n",
    "\n",
    "# Print size of training and testing data\n",
    "print(\"Size of training data:\", len(train_data))\n",
    "print(\"Size of testing data:\", len(test_data))"
   ]
  },
  {
   "cell_type": "markdown",
   "id": "c6234c81-3040-4053-89a9-a1bc237af1d8",
   "metadata": {},
   "source": [
    "(b) i. You can use binary encoding for the sentiments , i.e y = 1 for positive sentiments and y = −1 for negative sentiments."
   ]
  },
  {
   "cell_type": "code",
   "execution_count": 61,
   "id": "3028fb4c-b223-40d9-8050-83ad434b14dd",
   "metadata": {
    "tags": []
   },
   "outputs": [],
   "source": [
    "train_labels = np.concatenate([np.ones(700), np.zeros(700)])\n",
    "test_labels = np.concatenate([np.ones(300), np.zeros(300)])"
   ]
  },
  {
   "cell_type": "markdown",
   "id": "c157b89d-309d-4279-b3d3-af88496c2b4f",
   "metadata": {},
   "source": [
    "(b) iv. Count the number of unique words in the whole dataset (train + test) and print it out."
   ]
  },
  {
   "cell_type": "code",
   "execution_count": 62,
   "id": "4b8cda20-18c1-4ec3-8e7a-2d16ccf1ea43",
   "metadata": {
    "tags": []
   },
   "outputs": [
    {
     "name": "stdout",
     "output_type": "stream",
     "text": [
      "47037\n"
     ]
    }
   ],
   "source": [
    "all_dataset = set()\n",
    "\n",
    "for data in all_data:\n",
    "    data = data.replace('\\n','')\n",
    "    new_set = set(data.split(' '))\n",
    "    all_dataset.update(new_set)\n",
    "    \n",
    "all_dataset.remove('')\n",
    "\n",
    "unique_words = len(all_dataset)\n",
    "print(unique_words)"
   ]
  },
  {
   "cell_type": "markdown",
   "id": "19b2fafb-2e82-4003-a1bd-438c44f3ade5",
   "metadata": {},
   "source": [
    "(b) v. Calculate the average review length and the standard deviation of review lengths. Report the results."
   ]
  },
  {
   "cell_type": "code",
   "execution_count": 63,
   "id": "3ed094c0-3a60-4df1-a400-0d9354764571",
   "metadata": {
    "tags": []
   },
   "outputs": [
    {
     "name": "stdout",
     "output_type": "stream",
     "text": [
      "Average review length: 644.3575\n",
      "Standard deviation of review lengths: 284.98012333099655\n"
     ]
    }
   ],
   "source": [
    "# Calculate average review length and standard deviation\n",
    "train_lengths = [len(text.split()) for text in train_data]\n",
    "test_lengths = [len(text.split()) for text in test_data]\n",
    "\n",
    "average_length = np.mean(train_lengths + test_lengths)\n",
    "std_dev_length = np.std(train_lengths + test_lengths)\n",
    "\n",
    "print(\"Average review length:\", average_length)\n",
    "print(\"Standard deviation of review lengths:\", std_dev_length)"
   ]
  },
  {
   "cell_type": "markdown",
   "id": "1025dafd-b126-4b77-aef7-95851033808f",
   "metadata": {},
   "source": [
    "(b) vi. Plot the histogram of review lengths."
   ]
  },
  {
   "cell_type": "code",
   "execution_count": 64,
   "id": "dff93456-d85f-4b95-8046-958e8f1a2671",
   "metadata": {
    "tags": []
   },
   "outputs": [
    {
     "data": {
      "image/png": "[encoded data removed]",
      "text/plain": [
       "<Figure size 800x400 with 1 Axes>"
      ]
     },
     "metadata": {},
     "output_type": "display_data"
    }
   ],
   "source": [
    "# Plot histogram of review lengths\n",
    "plt.figure(figsize=(8, 4))  # Set figure size\n",
    "plt.hist(train_lengths + test_lengths, bins=50, color='green', edgecolor='black')\n",
    "plt.title(\"Histogram of Review Lengths\", fontsize=16)\n",
    "plt.xlabel(\"Review Length\", fontsize=12)\n",
    "plt.ylabel(\"Frequency\", fontsize=12)\n",
    "plt.xticks(fontsize=10)\n",
    "plt.yticks(fontsize=10)\n",
    "plt.grid(True)\n",
    "plt.show()"
   ]
  },
  {
   "cell_type": "markdown",
   "id": "bdadb732-3ca3-42a8-9e73-fbded1e0cc93",
   "metadata": {},
   "source": [
    "(b) vii. To represent each text (= data point), there are many ways. In NLP/Deep Learning terminology, this task is called tokenization. It is common to rep- resent text using popularity/ rank of words in text. The most common word in the text will be represented as 1, the second most common word will be represented as 2, etc. Tokenize each text document using this method."
   ]
  },
  {
   "cell_type": "code",
   "execution_count": 65,
   "id": "f8ed633a-d245-43ba-817a-a04f8d7597f4",
   "metadata": {
    "tags": []
   },
   "outputs": [],
   "source": [
    "# Tokenization\n",
    "tokenizer = Tokenizer(unique_words + 1)\n",
    "tokenizer.fit_on_texts(all_data)"
   ]
  },
  {
   "cell_type": "markdown",
   "id": "72a9e180-bc15-47d1-a7a6-ca5dbd612b94",
   "metadata": {},
   "source": [
    "(b) viii. Select a review length L that 70% of the reviews have a length below it. If you feel more adventurous, set the threshold to 90%"
   ]
  },
  {
   "cell_type": "code",
   "execution_count": 66,
   "id": "38d14c1e-502c-483f-9b32-15f05e3ef91b",
   "metadata": {
    "tags": []
   },
   "outputs": [
    {
     "name": "stdout",
     "output_type": "stream",
     "text": [
      "Threshold length for 70% of reviews =  737.0\n"
     ]
    }
   ],
   "source": [
    "# Select review length threshold\n",
    "percentile = 70\n",
    "L = np.percentile(train_lengths + test_lengths, percentile)\n",
    "print(f\"Threshold length for {percentile}% of reviews = \", L)"
   ]
  },
  {
   "cell_type": "markdown",
   "id": "5c6ee708-b727-4508-9b57-601ef7b5a316",
   "metadata": {},
   "source": [
    "(b) ix. Truncate reviews longer than L words and zero-pad reviews shorter than L so that all texts (= data points) are of length L."
   ]
  },
  {
   "cell_type": "code",
   "execution_count": 67,
   "id": "914517a2-379c-4721-99b7-29e6044974d4",
   "metadata": {
    "tags": []
   },
   "outputs": [],
   "source": [
    "# Tokenize and pad sequences\n",
    "max_review_length = int(L)\n",
    "\n",
    "train_sequences = tokenizer.texts_to_sequences(train_data)\n",
    "test_sequences = tokenizer.texts_to_sequences(test_data)\n",
    "\n",
    "train_padded = pad_sequences(train_sequences, maxlen=max_review_length, padding='post', truncating='post')\n",
    "test_padded = pad_sequences(test_sequences, maxlen=max_review_length, padding='post', truncating='post')"
   ]
  },
  {
   "cell_type": "code",
   "execution_count": 68,
   "id": "13d9b83e-95f5-4c6a-b6e8-f6758efef64f",
   "metadata": {
    "tags": []
   },
   "outputs": [
    {
     "name": "stdout",
     "output_type": "stream",
     "text": [
      "Sample preprocessed train data:  (1400, 737)\n",
      "\n",
      "[[  67 2745   29 ...    0    0    0]\n",
      " [ 150  144    3 ...    0    0    0]\n",
      " [ 729  287 3642 ...    0    0    0]\n",
      " [3244    6    2 ...   66    4   13]\n",
      " [4789    6    2 ...    0    0    0]]\n",
      "\n",
      "Sample preprocessed test data:  (600, 737)\n",
      "\n",
      "[[ 464  103  435 ... 3277  184   25]\n",
      " [ 152 8469   30 ... 1480   55  333]\n",
      " [   1   72    7 ...    0    0    0]\n",
      " [ 729  287 3642 ...    0    0    0]\n",
      " [  11    1 2319 ...  254    3   59]]\n"
     ]
    }
   ],
   "source": [
    "print(\"Sample preprocessed train data: \", train_padded[:].shape)\n",
    "print()\n",
    "print(train_padded[:5])\n",
    "print()\n",
    "print(\"Sample preprocessed test data: \", test_padded[:].shape)\n",
    "print()\n",
    "print(test_padded[:5])"
   ]
  },
  {
   "cell_type": "markdown",
   "id": "07c651cd-c732-437e-acfc-674004f84b45",
   "metadata": {},
   "source": [
    "(c) i. Assume that we are inter- ested in the top 5,000 words. This means that in each integer sequence that represents each document, we set to zero those integers that represent words that are not among the top 5,000 words in the document.5 If you feel more adventurous, use all the words that appear in this corpus. Choose the length of the embedding vector for each word to be 32. Hence, each document is represented as a 32 × L matrix."
   ]
  },
  {
   "cell_type": "code",
   "execution_count": 69,
   "id": "a369f9d2-a111-4a4b-83af-3b8e391d530e",
   "metadata": {
    "tags": []
   },
   "outputs": [],
   "source": [
    "# Get the indices of the top 5,000 words  \n",
    "top_words_indices = sorted(tokenizer.word_counts.items(), key=lambda x: x[1], reverse=True)[:5000]  \n",
    "top_words_indices = {word: index for index, (word, _) in enumerate(top_words_indices, start=1)}"
   ]
  },
  {
   "cell_type": "code",
   "execution_count": 70,
   "id": "c4939979-47b0-431d-8ff5-497309c2445c",
   "metadata": {
    "tags": []
   },
   "outputs": [],
   "source": [
    "# Replace out-of-vocabulary words with 0  \n",
    "train_padded_adjusted = [[(word if word < 5000 else 0) for word in sequence] for sequence in train_padded]  \n",
    "test_padded_adjusted = [[(word if word < 5000 else 0) for word in sequence] for sequence in test_padded]"
   ]
  },
  {
   "cell_type": "code",
   "execution_count": 71,
   "id": "dd9159c7-fcdf-438f-ae64-ad00be61882a",
   "metadata": {
    "tags": []
   },
   "outputs": [],
   "source": [
    "# Convert lists to numpy arrays  \n",
    "train_padded_adjusted = np.array(train_padded_adjusted)  \n",
    "test_padded_adjusted = np.array(test_padded_adjusted)"
   ]
  },
  {
   "cell_type": "code",
   "execution_count": 72,
   "id": "a2d4b6fe-b2b8-4b50-902f-2a422a1d3f96",
   "metadata": {
    "tags": []
   },
   "outputs": [],
   "source": [
    "# Set up an embedding layer with embedding dimension of 32  \n",
    "embedding_dim = 32  \n",
    "embedding_layer = Embedding(input_dim=len(top_words_indices), output_dim=embedding_dim, input_length=max_review_length)"
   ]
  },
  {
   "cell_type": "code",
   "execution_count": 73,
   "id": "f8b963e5-e689-4db6-8365-cf2e38b71db1",
   "metadata": {
    "tags": []
   },
   "outputs": [],
   "source": [
    "# Apply the embedding layer to the adjusted padded sequences  \n",
    "train_embedded = embedding_layer(train_padded_adjusted)  \n",
    "test_embedded = embedding_layer(test_padded_adjusted)"
   ]
  },
  {
   "cell_type": "markdown",
   "id": "9ee7260d-a455-4eb5-9eb3-dc11bc214a2b",
   "metadata": {},
   "source": [
    "ii. Flatten the matrix of each document to a vector"
   ]
  },
  {
   "cell_type": "code",
   "execution_count": 74,
   "id": "bdbed224-e0a1-47b5-b3b1-4ea525b4e0b6",
   "metadata": {
    "tags": []
   },
   "outputs": [],
   "source": [
    "# Flatten the matrix representation of each document to a vector  \n",
    "train_flattened = Flatten()(train_embedded)  \n",
    "test_flattened = Flatten()(test_embedded)"
   ]
  },
  {
   "cell_type": "code",
   "execution_count": 75,
   "id": "6660a972-ef38-4d42-bd64-fc96e7752f01",
   "metadata": {
    "tags": []
   },
   "outputs": [
    {
     "name": "stdout",
     "output_type": "stream",
     "text": [
      "Shape of flattened training vectors: (1400, 23584)\n",
      "Shape of flattened testing vectors: (600, 23584)\n"
     ]
    }
   ],
   "source": [
    "# Print shapes of flattened vectors  \n",
    "print(\"Shape of flattened training vectors:\", train_flattened.shape)  \n",
    "print(\"Shape of flattened testing vectors:\", test_flattened.shape)"
   ]
  },
  {
   "cell_type": "markdown",
   "id": "b15d4f2a-10cf-44ea-a321-5aae6511c814",
   "metadata": {},
   "source": [
    "(d) i. Train a MLP with three (dense) hidden layers each of which has 50 ReLUs and one output layer with a single sigmoid neuron. Use a dropout rate of 20% for the first layer and 50% for the other layers. Use ADAM optimizer and binary cross entropy loss (which is equivalent to having a softmax in the output). To avoid overfitting, just set the number of epochs as 2. Use a batch size of 10."
   ]
  },
  {
   "cell_type": "code",
   "execution_count": 151,
   "id": "d8ceb947-4158-4f4a-ae66-28ba0f5f2ab6",
   "metadata": {
    "tags": []
   },
   "outputs": [],
   "source": [
    "# Define the MLP model\n",
    "model = Sequential([\n",
    "    Dense(50, activation='relu', input_shape=(23584,)),\n",
    "    Dropout(0.2), \n",
    "    BatchNormalization(), \n",
    "    Dense(50, activation='relu'),\n",
    "    Dropout(0.5), \n",
    "    BatchNormalization(),  \n",
    "    Dense(50, activation='relu'),\n",
    "    Dropout(0.5),  \n",
    "    BatchNormalization(),\n",
    "    Dense(1, activation='sigmoid')\n",
    "])"
   ]
  },
  {
   "cell_type": "code",
   "execution_count": 152,
   "id": "eec768fc-f3c9-4c35-b297-4de84f1ded02",
   "metadata": {
    "tags": []
   },
   "outputs": [],
   "source": [
    "# Compile the model\n",
    "model.compile(optimizer=Adam(), loss='binary_crossentropy', metrics=['accuracy'])"
   ]
  },
  {
   "cell_type": "code",
   "execution_count": 153,
   "id": "8ecbd6d3-ea82-4110-b189-bef603db3abc",
   "metadata": {
    "tags": []
   },
   "outputs": [
    {
     "name": "stdout",
     "output_type": "stream",
     "text": [
      "Epoch 1/2\n",
      "\u001b[1m112/112\u001b[0m \u001b[32m━━━━━━━━━━━━━━━━━━━━\u001b[0m\u001b[37m\u001b[0m \u001b[1m1s\u001b[0m 4ms/step - accuracy: 0.5219 - loss: 0.9046 - val_accuracy: 0.5893 - val_loss: 0.6933\n",
      "Epoch 2/2\n",
      "\u001b[1m112/112\u001b[0m \u001b[32m━━━━━━━━━━━━━━━━━━━━\u001b[0m\u001b[37m\u001b[0m \u001b[1m0s\u001b[0m 3ms/step - accuracy: 0.5591 - loss: 0.7935 - val_accuracy: 0.0929 - val_loss: 0.8014\n"
     ]
    }
   ],
   "source": [
    "# Train the model\n",
    "history = model.fit(train_flattened, train_labels, epochs=2, batch_size=10, validation_split=0.2, verbose=1)"
   ]
  },
  {
   "cell_type": "code",
   "execution_count": 154,
   "id": "f7bdeb93-702f-4d7d-ab3d-18b80465c844",
   "metadata": {
    "tags": []
   },
   "outputs": [],
   "source": [
    "# Evaluate the model on train and test data\n",
    "train_loss, train_accuracy = model.evaluate(train_flattened, train_labels, verbose=0)\n",
    "test_loss, test_accuracy = model.evaluate(test_flattened, test_labels, verbose=0)"
   ]
  },
  {
   "cell_type": "markdown",
   "id": "bd9fa2c9-dad4-4816-afca-963efd1e7347",
   "metadata": {},
   "source": [
    "(d) ii. Report the train and test accuracies of this model."
   ]
  },
  {
   "cell_type": "code",
   "execution_count": 155,
   "id": "196f3de0-dd11-494c-9c7a-27538f665e35",
   "metadata": {
    "tags": []
   },
   "outputs": [
    {
     "name": "stdout",
     "output_type": "stream",
     "text": [
      "MLP Model Train Accuracy: 0.5414285659790039\n",
      "MLP Model Test Accuracy: 0.5066666603088379\n"
     ]
    }
   ],
   "source": [
    "print(\"MLP Model Train Accuracy:\", train_accuracy)\n",
    "print(\"MLP Model Test Accuracy:\", test_accuracy)"
   ]
  },
  {
   "cell_type": "markdown",
   "id": "1ca1c315-368c-484e-836e-606ede40d7cd",
   "metadata": {},
   "source": [
    "(e) i. After the embedding layer, insert a Conv1D layer. This convolutional layer has 32 feature maps , and each of the 32 kernels has size 3, i.e. reads embedded word representations 3 vector elements of the word embedding at a time. The convolutional layer is followed by a 1D max pooling layer with a length and stride of 2 that halves the size of the feature maps from the convolutional layer. The rest of the network is the same as the neural network above."
   ]
  },
  {
   "cell_type": "code",
   "execution_count": 176,
   "id": "ba778baf-dfa5-493e-892d-40b22cfd692b",
   "metadata": {},
   "outputs": [],
   "source": [
    "# Define the model architecture with Conv1D layer\n",
    "model_cnn = Sequential([\n",
    "    Embedding(input_dim=len(top_words_indices) + 1, output_dim=embedding_dim, input_length=max_review_length),\n",
    "    Conv1D(filters=32, kernel_size=3, padding='same', activation='relu'),\n",
    "    MaxPooling1D(pool_size=2, strides=2),\n",
    "    Flatten(),\n",
    "    Dense(50, activation='relu'),\n",
    "    Dropout(0.5),\n",
    "    Dense(1, activation='sigmoid')\n",
    "])"
   ]
  },
  {
   "cell_type": "code",
   "execution_count": 177,
   "id": "55b1e3ef-22fd-40f8-adbb-6ef605da5e7b",
   "metadata": {
    "tags": []
   },
   "outputs": [],
   "source": [
    "# Compile the model\n",
    "model_cnn.compile(optimizer=Adam(), loss='binary_crossentropy', metrics=['accuracy'])"
   ]
  },
  {
   "cell_type": "code",
   "execution_count": 178,
   "id": "bf97e095-5c05-4812-8087-bbb0e2e39991",
   "metadata": {
    "tags": []
   },
   "outputs": [
    {
     "name": "stdout",
     "output_type": "stream",
     "text": [
      "Epoch 1/2\n",
      "\u001b[1m140/140\u001b[0m \u001b[32m━━━━━━━━━━━━━━━━━━━━\u001b[0m\u001b[37m\u001b[0m \u001b[1m1s\u001b[0m 4ms/step - accuracy: 0.4941 - loss: 0.7045 - val_accuracy: 0.5400 - val_loss: 0.6924\n",
      "Epoch 2/2\n",
      "\u001b[1m140/140\u001b[0m \u001b[32m━━━━━━━━━━━━━━━━━━━━\u001b[0m\u001b[37m\u001b[0m \u001b[1m1s\u001b[0m 4ms/step - accuracy: 0.6168 - loss: 0.6790 - val_accuracy: 0.5433 - val_loss: 0.6869\n"
     ]
    }
   ],
   "source": [
    "# Train the model\n",
    "history_cnn = model_cnn.fit(train_padded_adjusted, train_labels, batch_size=10, epochs=2, validation_data=(test_padded_adjusted, test_labels))"
   ]
  },
  {
   "cell_type": "code",
   "execution_count": 179,
   "id": "7ed7ae38-a70d-4148-96f6-389ab93e2ca8",
   "metadata": {
    "tags": []
   },
   "outputs": [],
   "source": [
    "# Evaluate the model on training and testing data\n",
    "train_loss_cnn, train_accuracy_cnn = model_cnn.evaluate(train_padded_adjusted, train_labels, verbose=0)\n",
    "test_loss_cnn, test_accuracy_cnn = model_cnn.evaluate(test_padded_adjusted, test_labels, verbose=0)"
   ]
  },
  {
   "cell_type": "markdown",
   "id": "747e376e-451c-44ee-bc3c-7fdf6ad6666c",
   "metadata": {},
   "source": [
    "(e) ii. Report the train and test accuracies of this model."
   ]
  },
  {
   "cell_type": "code",
   "execution_count": 180,
   "id": "30892276-6a46-48ae-be06-7473af525d2b",
   "metadata": {
    "tags": []
   },
   "outputs": [
    {
     "name": "stdout",
     "output_type": "stream",
     "text": [
      "1D CNN Model Train accuracy: 0.8500000238418579\n",
      "1D CNN Model Test accuracy: 0.5433333516120911\n"
     ]
    }
   ],
   "source": [
    "print(\"1D CNN Model Train accuracy:\", train_accuracy_cnn)\n",
    "print(\"1D CNN Model Test accuracy:\", test_accuracy_cnn)"
   ]
  },
  {
   "cell_type": "markdown",
   "id": "74091c13-786b-429f-bbec-d13754c7724a",
   "metadata": {},
   "source": [
    "(f) i. Each word is represented to LSTM as a vector of 32 elements and the LSTM is followed by a dense layer of 256 ReLUs. Use a dropout rate of 0.2 for both LSTM and the dense layer. Train the model using 10-50 epochs and batch size of 10."
   ]
  },
  {
   "cell_type": "code",
   "execution_count": 166,
   "id": "415d5577-fa93-49c2-b203-3ee9fb509b9e",
   "metadata": {
    "tags": []
   },
   "outputs": [],
   "source": [
    "# Define the model architecture with LSTM layer\n",
    "model_lstm = Sequential([\n",
    "    Embedding(input_dim=len(top_words_indices) + 1, output_dim=32, input_length=max_review_length),\n",
    "    LSTM(256, dropout=0.2, recurrent_dropout=0.2),\n",
    "    Dense(256, activation='relu'),\n",
    "    Dropout(0.2),\n",
    "    Dense(1, activation='sigmoid')\n",
    "])"
   ]
  },
  {
   "cell_type": "code",
   "execution_count": 167,
   "id": "12431932-988a-4028-9483-0b9f3698331f",
   "metadata": {
    "tags": []
   },
   "outputs": [],
   "source": [
    "# Compile the model\n",
    "model_lstm.compile(optimizer=Adam(), loss='binary_crossentropy', metrics=['accuracy'])"
   ]
  },
  {
   "cell_type": "code",
   "execution_count": 168,
   "id": "bdcd71c6-58db-4e93-981c-09730f0e710c",
   "metadata": {
    "tags": []
   },
   "outputs": [
    {
     "name": "stdout",
     "output_type": "stream",
     "text": [
      "Epoch 1/50\n",
      "\u001b[1m140/140\u001b[0m \u001b[32m━━━━━━━━━━━━━━━━━━━━\u001b[0m\u001b[37m\u001b[0m \u001b[1m52s\u001b[0m 367ms/step - accuracy: 0.5277 - loss: 0.6940 - val_accuracy: 0.5567 - val_loss: 0.6900\n",
      "Epoch 2/50\n",
      "\u001b[1m140/140\u001b[0m \u001b[32m━━━━━━━━━━━━━━━━━━━━\u001b[0m\u001b[37m\u001b[0m \u001b[1m51s\u001b[0m 363ms/step - accuracy: 0.5416 - loss: 0.6892 - val_accuracy: 0.5583 - val_loss: 0.6868\n",
      "Epoch 3/50\n",
      "\u001b[1m140/140\u001b[0m \u001b[32m━━━━━━━━━━━━━━━━━━━━\u001b[0m\u001b[37m\u001b[0m \u001b[1m51s\u001b[0m 364ms/step - accuracy: 0.5296 - loss: 0.7266 - val_accuracy: 0.5300 - val_loss: 0.6913\n",
      "Epoch 4/50\n",
      "\u001b[1m140/140\u001b[0m \u001b[32m━━━━━━━━━━━━━━━━━━━━\u001b[0m\u001b[37m\u001b[0m \u001b[1m50s\u001b[0m 359ms/step - accuracy: 0.5214 - loss: 0.6962 - val_accuracy: 0.5400 - val_loss: 0.6874\n",
      "Epoch 5/50\n",
      "\u001b[1m140/140\u001b[0m \u001b[32m━━━━━━━━━━━━━━━━━━━━\u001b[0m\u001b[37m\u001b[0m \u001b[1m48s\u001b[0m 341ms/step - accuracy: 0.5173 - loss: 0.7065 - val_accuracy: 0.5350 - val_loss: 0.6914\n",
      "Epoch 6/50\n",
      "\u001b[1m140/140\u001b[0m \u001b[32m━━━━━━━━━━━━━━━━━━━━\u001b[0m\u001b[37m\u001b[0m \u001b[1m51s\u001b[0m 361ms/step - accuracy: 0.5265 - loss: 0.6955 - val_accuracy: 0.5333 - val_loss: 0.7019\n",
      "Epoch 7/50\n",
      "\u001b[1m140/140\u001b[0m \u001b[32m━━━━━━━━━━━━━━━━━━━━\u001b[0m\u001b[37m\u001b[0m \u001b[1m50s\u001b[0m 360ms/step - accuracy: 0.5261 - loss: 0.6950 - val_accuracy: 0.5050 - val_loss: 0.6942\n",
      "Epoch 8/50\n",
      "\u001b[1m140/140\u001b[0m \u001b[32m━━━━━━━━━━━━━━━━━━━━\u001b[0m\u001b[37m\u001b[0m \u001b[1m50s\u001b[0m 360ms/step - accuracy: 0.5516 - loss: 0.6897 - val_accuracy: 0.4983 - val_loss: 0.6970\n",
      "Epoch 9/50\n",
      "\u001b[1m140/140\u001b[0m \u001b[32m━━━━━━━━━━━━━━━━━━━━\u001b[0m\u001b[37m\u001b[0m \u001b[1m50s\u001b[0m 355ms/step - accuracy: 0.5344 - loss: 0.6916 - val_accuracy: 0.4883 - val_loss: 0.6979\n",
      "Epoch 10/50\n",
      "\u001b[1m140/140\u001b[0m \u001b[32m━━━━━━━━━━━━━━━━━━━━\u001b[0m\u001b[37m\u001b[0m \u001b[1m46s\u001b[0m 331ms/step - accuracy: 0.5199 - loss: 0.6962 - val_accuracy: 0.5433 - val_loss: 0.6904\n",
      "Epoch 11/50\n",
      "\u001b[1m140/140\u001b[0m \u001b[32m━━━━━━━━━━━━━━━━━━━━\u001b[0m\u001b[37m\u001b[0m \u001b[1m46s\u001b[0m 329ms/step - accuracy: 0.5255 - loss: 0.6943 - val_accuracy: 0.4967 - val_loss: 0.6952\n",
      "Epoch 12/50\n",
      "\u001b[1m140/140\u001b[0m \u001b[32m━━━━━━━━━━━━━━━━━━━━\u001b[0m\u001b[37m\u001b[0m \u001b[1m46s\u001b[0m 330ms/step - accuracy: 0.5011 - loss: 0.6958 - val_accuracy: 0.5083 - val_loss: 0.6957\n",
      "Epoch 13/50\n",
      "\u001b[1m140/140\u001b[0m \u001b[32m━━━━━━━━━━━━━━━━━━━━\u001b[0m\u001b[37m\u001b[0m \u001b[1m46s\u001b[0m 330ms/step - accuracy: 0.5165 - loss: 0.6911 - val_accuracy: 0.5517 - val_loss: 0.6890\n",
      "Epoch 14/50\n",
      "\u001b[1m140/140\u001b[0m \u001b[32m━━━━━━━━━━━━━━━━━━━━\u001b[0m\u001b[37m\u001b[0m \u001b[1m46s\u001b[0m 329ms/step - accuracy: 0.5510 - loss: 0.6894 - val_accuracy: 0.5250 - val_loss: 0.6900\n",
      "Epoch 15/50\n",
      "\u001b[1m140/140\u001b[0m \u001b[32m━━━━━━━━━━━━━━━━━━━━\u001b[0m\u001b[37m\u001b[0m \u001b[1m47s\u001b[0m 336ms/step - accuracy: 0.5321 - loss: 0.6884 - val_accuracy: 0.5017 - val_loss: 0.6912\n",
      "Epoch 16/50\n",
      "\u001b[1m140/140\u001b[0m \u001b[32m━━━━━━━━━━━━━━━━━━━━\u001b[0m\u001b[37m\u001b[0m \u001b[1m46s\u001b[0m 332ms/step - accuracy: 0.5341 - loss: 0.6857 - val_accuracy: 0.5233 - val_loss: 0.6911\n",
      "Epoch 17/50\n",
      "\u001b[1m140/140\u001b[0m \u001b[32m━━━━━━━━━━━━━━━━━━━━\u001b[0m\u001b[37m\u001b[0m \u001b[1m47s\u001b[0m 339ms/step - accuracy: 0.5318 - loss: 0.6854 - val_accuracy: 0.5317 - val_loss: 0.6930\n",
      "Epoch 18/50\n",
      "\u001b[1m140/140\u001b[0m \u001b[32m━━━━━━━━━━━━━━━━━━━━\u001b[0m\u001b[37m\u001b[0m \u001b[1m48s\u001b[0m 345ms/step - accuracy: 0.5596 - loss: 0.6765 - val_accuracy: 0.5217 - val_loss: 0.6892\n",
      "Epoch 19/50\n",
      "\u001b[1m140/140\u001b[0m \u001b[32m━━━━━━━━━━━━━━━━━━━━\u001b[0m\u001b[37m\u001b[0m \u001b[1m50s\u001b[0m 355ms/step - accuracy: 0.5601 - loss: 0.6769 - val_accuracy: 0.5300 - val_loss: 0.6930\n",
      "Epoch 20/50\n",
      "\u001b[1m140/140\u001b[0m \u001b[32m━━━━━━━━━━━━━━━━━━━━\u001b[0m\u001b[37m\u001b[0m \u001b[1m51s\u001b[0m 361ms/step - accuracy: 0.5098 - loss: 0.6770 - val_accuracy: 0.4983 - val_loss: 0.7106\n",
      "Epoch 21/50\n",
      "\u001b[1m140/140\u001b[0m \u001b[32m━━━━━━━━━━━━━━━━━━━━\u001b[0m\u001b[37m\u001b[0m \u001b[1m48s\u001b[0m 345ms/step - accuracy: 0.5301 - loss: 0.6688 - val_accuracy: 0.5483 - val_loss: 0.6892\n",
      "Epoch 22/50\n",
      "\u001b[1m140/140\u001b[0m \u001b[32m━━━━━━━━━━━━━━━━━━━━\u001b[0m\u001b[37m\u001b[0m \u001b[1m47s\u001b[0m 339ms/step - accuracy: 0.5709 - loss: 0.6571 - val_accuracy: 0.5333 - val_loss: 0.6935\n",
      "Epoch 23/50\n",
      "\u001b[1m140/140\u001b[0m \u001b[32m━━━━━━━━━━━━━━━━━━━━\u001b[0m\u001b[37m\u001b[0m \u001b[1m48s\u001b[0m 341ms/step - accuracy: 0.6212 - loss: 0.6312 - val_accuracy: 0.5033 - val_loss: 0.7237\n",
      "Epoch 24/50\n",
      "\u001b[1m140/140\u001b[0m \u001b[32m━━━━━━━━━━━━━━━━━━━━\u001b[0m\u001b[37m\u001b[0m \u001b[1m47s\u001b[0m 335ms/step - accuracy: 0.6007 - loss: 0.6222 - val_accuracy: 0.5383 - val_loss: 0.7365\n",
      "Epoch 25/50\n",
      "\u001b[1m140/140\u001b[0m \u001b[32m━━━━━━━━━━━━━━━━━━━━\u001b[0m\u001b[37m\u001b[0m \u001b[1m46s\u001b[0m 330ms/step - accuracy: 0.6237 - loss: 0.6118 - val_accuracy: 0.5450 - val_loss: 0.7232\n",
      "Epoch 26/50\n",
      "\u001b[1m140/140\u001b[0m \u001b[32m━━━━━━━━━━━━━━━━━━━━\u001b[0m\u001b[37m\u001b[0m \u001b[1m52s\u001b[0m 369ms/step - accuracy: 0.6494 - loss: 0.5945 - val_accuracy: 0.5367 - val_loss: 0.7523\n",
      "Epoch 27/50\n",
      "\u001b[1m140/140\u001b[0m \u001b[32m━━━━━━━━━━━━━━━━━━━━\u001b[0m\u001b[37m\u001b[0m \u001b[1m48s\u001b[0m 340ms/step - accuracy: 0.6805 - loss: 0.5790 - val_accuracy: 0.5367 - val_loss: 0.6999\n",
      "Epoch 28/50\n",
      "\u001b[1m140/140\u001b[0m \u001b[32m━━━━━━━━━━━━━━━━━━━━\u001b[0m\u001b[37m\u001b[0m \u001b[1m49s\u001b[0m 349ms/step - accuracy: 0.6342 - loss: 0.5829 - val_accuracy: 0.5383 - val_loss: 0.8032\n",
      "Epoch 29/50\n",
      "\u001b[1m140/140\u001b[0m \u001b[32m━━━━━━━━━━━━━━━━━━━━\u001b[0m\u001b[37m\u001b[0m \u001b[1m46s\u001b[0m 330ms/step - accuracy: 0.6434 - loss: 0.5893 - val_accuracy: 0.5300 - val_loss: 0.7624\n",
      "Epoch 30/50\n",
      "\u001b[1m140/140\u001b[0m \u001b[32m━━━━━━━━━━━━━━━━━━━━\u001b[0m\u001b[37m\u001b[0m \u001b[1m45s\u001b[0m 325ms/step - accuracy: 0.6453 - loss: 0.5652 - val_accuracy: 0.5283 - val_loss: 0.7715\n",
      "Epoch 31/50\n",
      "\u001b[1m140/140\u001b[0m \u001b[32m━━━━━━━━━━━━━━━━━━━━\u001b[0m\u001b[37m\u001b[0m \u001b[1m44s\u001b[0m 318ms/step - accuracy: 0.6864 - loss: 0.5505 - val_accuracy: 0.5217 - val_loss: 0.7744\n",
      "Epoch 32/50\n",
      "\u001b[1m140/140\u001b[0m \u001b[32m━━━━━━━━━━━━━━━━━━━━\u001b[0m\u001b[37m\u001b[0m \u001b[1m45s\u001b[0m 318ms/step - accuracy: 0.6774 - loss: 0.5609 - val_accuracy: 0.5200 - val_loss: 0.8337\n",
      "Epoch 33/50\n",
      "\u001b[1m140/140\u001b[0m \u001b[32m━━━━━━━━━━━━━━━━━━━━\u001b[0m\u001b[37m\u001b[0m \u001b[1m44s\u001b[0m 315ms/step - accuracy: 0.6477 - loss: 0.5643 - val_accuracy: 0.5267 - val_loss: 0.8734\n",
      "Epoch 34/50\n",
      "\u001b[1m140/140\u001b[0m \u001b[32m━━━━━━━━━━━━━━━━━━━━\u001b[0m\u001b[37m\u001b[0m \u001b[1m43s\u001b[0m 307ms/step - accuracy: 0.6652 - loss: 0.5389 - val_accuracy: 0.5283 - val_loss: 0.8215\n",
      "Epoch 35/50\n",
      "\u001b[1m140/140\u001b[0m \u001b[32m━━━━━━━━━━━━━━━━━━━━\u001b[0m\u001b[37m\u001b[0m \u001b[1m43s\u001b[0m 308ms/step - accuracy: 0.6585 - loss: 0.5589 - val_accuracy: 0.5233 - val_loss: 0.8667\n",
      "Epoch 36/50\n",
      "\u001b[1m140/140\u001b[0m \u001b[32m━━━━━━━━━━━━━━━━━━━━\u001b[0m\u001b[37m\u001b[0m \u001b[1m45s\u001b[0m 322ms/step - accuracy: 0.6587 - loss: 0.5497 - val_accuracy: 0.5267 - val_loss: 0.9418\n",
      "Epoch 37/50\n",
      "\u001b[1m140/140\u001b[0m \u001b[32m━━━━━━━━━━━━━━━━━━━━\u001b[0m\u001b[37m\u001b[0m \u001b[1m43s\u001b[0m 310ms/step - accuracy: 0.6382 - loss: 0.5299 - val_accuracy: 0.5133 - val_loss: 0.8910\n",
      "Epoch 38/50\n",
      "\u001b[1m140/140\u001b[0m \u001b[32m━━━━━━━━━━━━━━━━━━━━\u001b[0m\u001b[37m\u001b[0m \u001b[1m43s\u001b[0m 311ms/step - accuracy: 0.6265 - loss: 0.5536 - val_accuracy: 0.4817 - val_loss: 1.0537\n",
      "Epoch 39/50\n",
      "\u001b[1m140/140\u001b[0m \u001b[32m━━━━━━━━━━━━━━━━━━━━\u001b[0m\u001b[37m\u001b[0m \u001b[1m44s\u001b[0m 315ms/step - accuracy: 0.6734 - loss: 0.5141 - val_accuracy: 0.5300 - val_loss: 1.0086\n",
      "Epoch 40/50\n",
      "\u001b[1m140/140\u001b[0m \u001b[32m━━━━━━━━━━━━━━━━━━━━\u001b[0m\u001b[37m\u001b[0m \u001b[1m43s\u001b[0m 307ms/step - accuracy: 0.6562 - loss: 0.5070 - val_accuracy: 0.5350 - val_loss: 1.1162\n",
      "Epoch 41/50\n",
      "\u001b[1m140/140\u001b[0m \u001b[32m━━━━━━━━━━━━━━━━━━━━\u001b[0m\u001b[37m\u001b[0m \u001b[1m44s\u001b[0m 316ms/step - accuracy: 0.6921 - loss: 0.4876 - val_accuracy: 0.5400 - val_loss: 1.0308\n",
      "Epoch 42/50\n",
      "\u001b[1m140/140\u001b[0m \u001b[32m━━━━━━━━━━━━━━━━━━━━\u001b[0m\u001b[37m\u001b[0m \u001b[1m43s\u001b[0m 309ms/step - accuracy: 0.6667 - loss: 0.5081 - val_accuracy: 0.5583 - val_loss: 1.0717\n",
      "Epoch 43/50\n",
      "\u001b[1m140/140\u001b[0m \u001b[32m━━━━━━━━━━━━━━━━━━━━\u001b[0m\u001b[37m\u001b[0m \u001b[1m47s\u001b[0m 336ms/step - accuracy: 0.6659 - loss: 0.4984 - val_accuracy: 0.5400 - val_loss: 1.0889\n",
      "Epoch 44/50\n",
      "\u001b[1m140/140\u001b[0m \u001b[32m━━━━━━━━━━━━━━━━━━━━\u001b[0m\u001b[37m\u001b[0m \u001b[1m46s\u001b[0m 329ms/step - accuracy: 0.6825 - loss: 0.4847 - val_accuracy: 0.5483 - val_loss: 1.0631\n",
      "Epoch 45/50\n",
      "\u001b[1m140/140\u001b[0m \u001b[32m━━━━━━━━━━━━━━━━━━━━\u001b[0m\u001b[37m\u001b[0m \u001b[1m47s\u001b[0m 334ms/step - accuracy: 0.6843 - loss: 0.4789 - val_accuracy: 0.5367 - val_loss: 1.0633\n",
      "Epoch 46/50\n",
      "\u001b[1m140/140\u001b[0m \u001b[32m━━━━━━━━━━━━━━━━━━━━\u001b[0m\u001b[37m\u001b[0m \u001b[1m44s\u001b[0m 314ms/step - accuracy: 0.6911 - loss: 0.4850 - val_accuracy: 0.5467 - val_loss: 1.2236\n",
      "Epoch 47/50\n",
      "\u001b[1m140/140\u001b[0m \u001b[32m━━━━━━━━━━━━━━━━━━━━\u001b[0m\u001b[37m\u001b[0m \u001b[1m45s\u001b[0m 324ms/step - accuracy: 0.7043 - loss: 0.4795 - val_accuracy: 0.5900 - val_loss: 1.1648\n",
      "Epoch 48/50\n",
      "\u001b[1m140/140\u001b[0m \u001b[32m━━━━━━━━━━━━━━━━━━━━\u001b[0m\u001b[37m\u001b[0m \u001b[1m45s\u001b[0m 320ms/step - accuracy: 0.7756 - loss: 0.4387 - val_accuracy: 0.6133 - val_loss: 1.4443\n",
      "Epoch 49/50\n",
      "\u001b[1m140/140\u001b[0m \u001b[32m━━━━━━━━━━━━━━━━━━━━\u001b[0m\u001b[37m\u001b[0m \u001b[1m44s\u001b[0m 315ms/step - accuracy: 0.8139 - loss: 0.4050 - val_accuracy: 0.5967 - val_loss: 0.9638\n",
      "Epoch 50/50\n",
      "\u001b[1m140/140\u001b[0m \u001b[32m━━━━━━━━━━━━━━━━━━━━\u001b[0m\u001b[37m\u001b[0m \u001b[1m44s\u001b[0m 316ms/step - accuracy: 0.8422 - loss: 0.3770 - val_accuracy: 0.6083 - val_loss: 0.9963\n"
     ]
    }
   ],
   "source": [
    "# Train the model\n",
    "history_lstm = model_lstm.fit(train_padded_adjusted, train_labels, batch_size=10, epochs=50, validation_data=(test_padded_adjusted, test_labels))"
   ]
  },
  {
   "cell_type": "code",
   "execution_count": 169,
   "id": "a824631d-3406-4269-8d01-1e52d6e10385",
   "metadata": {
    "tags": []
   },
   "outputs": [],
   "source": [
    "# Evaluate the model on training and testing data\n",
    "train_loss_lstm, train_accuracy_lstm = model_lstm.evaluate(train_padded_adjusted, train_labels, verbose=0)\n",
    "test_loss_lstm, test_accuracy_lstm = model_lstm.evaluate(test_padded_adjusted, test_labels, verbose=0)"
   ]
  },
  {
   "cell_type": "markdown",
   "id": "0ba1a50e-61b3-42cd-b458-a74f162f076d",
   "metadata": {},
   "source": [
    "(f) ii. Report the train and test accuracies of this model."
   ]
  },
  {
   "cell_type": "code",
   "execution_count": 170,
   "id": "f98ecf66-98cc-46b4-9907-481e012a9a06",
   "metadata": {
    "tags": []
   },
   "outputs": [
    {
     "name": "stdout",
     "output_type": "stream",
     "text": [
      "LSTM Model Train accuracy: 0.9300000071525574\n",
      "LSTM Model Test accuracy: 0.6083333492279053\n"
     ]
    }
   ],
   "source": [
    "print(\"LSTM Model Train accuracy:\", train_accuracy_lstm)\n",
    "print(\"LSTM Model Test accuracy:\", test_accuracy_lstm)"
   ]
  },
  {
   "cell_type": "code",
   "execution_count": null,
   "id": "5d2f40e6-080e-41de-bbf5-5e072165d71f",
   "metadata": {},
   "outputs": [],
   "source": []
  },
  {
   "cell_type": "code",
   "execution_count": null,
   "id": "fce9db17-6756-4bf3-b9b8-c7056b47311a",
   "metadata": {},
   "outputs": [],
   "source": []
  },
  {
   "cell_type": "code",
   "execution_count": null,
   "id": "e47f0251-8a9e-4d3a-9a65-e6aace9ec39f",
   "metadata": {},
   "outputs": [],
   "source": []
  },
  {
   "cell_type": "code",
   "execution_count": null,
   "id": "ea429ab4-068e-44cf-9b0d-30f1c3522f26",
   "metadata": {},
   "outputs": [],
   "source": []
  },
  {
   "cell_type": "code",
   "execution_count": null,
   "id": "abbe9fb8-ae31-454a-a63a-8632ee48fe9e",
   "metadata": {},
   "outputs": [],
   "source": []
  },
  {
   "cell_type": "code",
   "execution_count": null,
   "id": "67b9e6e0-9d7d-4a44-b133-869c2b0f332b",
   "metadata": {},
   "outputs": [],
   "source": []
  },
  {
   "cell_type": "code",
   "execution_count": null,
   "id": "2814ff6d-7249-4cb1-8645-0700735563a9",
   "metadata": {},
   "outputs": [],
   "source": []
  },
  {
   "cell_type": "code",
   "execution_count": null,
   "id": "95aa3aeb-d66e-43b8-b3ab-608a8c4bd4ee",
   "metadata": {},
   "outputs": [],
   "source": []
  },
  {
   "cell_type": "code",
   "execution_count": null,
   "id": "605dca2a-b535-4fec-b828-11b6da428bee",
   "metadata": {},
   "outputs": [],
   "source": []
  }
 ],
 "metadata": {
  "kernelspec": {
   "display_name": "Python 3 (ipykernel)",
   "language": "python",
   "name": "python3"
  },
  "language_info": {
   "codemirror_mode": {
    "name": "ipython",
    "version": 3
   },
   "file_extension": ".py",
   "mimetype": "text/x-python",
   "name": "python",
   "nbconvert_exporter": "python",
   "pygments_lexer": "ipython3",
   "version": "3.11.5"
  }
 },
 "nbformat": 4,
 "nbformat_minor": 5
}
